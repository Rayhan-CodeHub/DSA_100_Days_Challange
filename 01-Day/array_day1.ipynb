{
  "nbformat": 4,
  "nbformat_minor": 0,
  "metadata": {
    "colab": {
      "provenance": []
    },
    "kernelspec": {
      "name": "python3",
      "display_name": "Python 3"
    },
    "language_info": {
      "name": "python"
    }
  },
  "cells": [
    {
      "cell_type": "markdown",
      "source": [
        "# Task\n",
        "CRUD operation on Numpy Array"
      ],
      "metadata": {
        "id": "11e2oLW5lGsc"
      }
    },
    {
      "cell_type": "markdown",
      "source": [
        "# What is Array\n",
        "\n",
        "\n",
        "1.   Store similar type data \n",
        "2.   like Python List\n",
        "\n",
        "\n",
        "\n"
      ],
      "metadata": {
        "id": "ZJ0O6lGKlYnC"
      }
    },
    {
      "cell_type": "markdown",
      "source": [
        "# Array\n",
        "# [1, 2, 3, 4]\n",
        "* 1 => index position 0\n",
        "* 2 => index position 1\n",
        "* 3 => index position 2\n",
        "* 4 => index position 3"
      ],
      "metadata": {
        "id": "YMbLAcYOmRcK"
      }
    },
    {
      "cell_type": "markdown",
      "source": [
        "# Primary operation can be CRUD in python Array"
      ],
      "metadata": {
        "id": "Wv1XSlJDnPkF"
      }
    },
    {
      "cell_type": "markdown",
      "source": [
        "# They are similar :\n",
        "* python list\n",
        "* python array\n",
        "* numpy array"
      ],
      "metadata": {
        "id": "AO8Qc_v4nmHg"
      }
    },
    {
      "cell_type": "code",
      "source": [],
      "metadata": {
        "id": "-6O6LkWannS8"
      },
      "execution_count": null,
      "outputs": []
    },
    {
      "cell_type": "markdown",
      "source": [
        "# Homogeneous vs Heterogeneous\n",
        "# Homogeneous\n",
        "* store same data type in the array\n",
        "* [1, 2, 3]\n",
        "\n",
        "# Heterogeneous\n",
        "* Store different data type in the array\n",
        "* [1, \"apple\", 5.6]"
      ],
      "metadata": {
        "id": "tuXeSmWhn4jE"
      }
    },
    {
      "cell_type": "markdown",
      "source": [
        "* \"python array\" module & python numpy are homogeneous\n",
        "* \"python list\" are heterogeneous"
      ],
      "metadata": {
        "id": "fmYarKGbo-Xz"
      }
    },
    {
      "cell_type": "markdown",
      "source": [
        "# Typecode in array\n",
        "* 'i' => int => 2 bytes\n",
        "* 'f' => float => 4 bytes\n",
        "* 'd' => float => 8 bytes\n",
        "* 'u' => unicode character => 2 bytes\n",
        "\n",
        "[python array typecode](https://docs.python.org/3/library/array.html)"
      ],
      "metadata": {
        "id": "_glHgi4XsadI"
      }
    },
    {
      "cell_type": "code",
      "source": [],
      "metadata": {
        "id": "1-GW2k4ZtRzm"
      },
      "execution_count": null,
      "outputs": []
    },
    {
      "cell_type": "code",
      "source": [
        "# create array\n",
        "import array\n",
        "int_array1 = array.array('i', [1,2,3])\n",
        "print(int_array1)\n",
        "print('typecode is ',int_array1.typecode)\n",
        "\n",
        "float_array2 = array.array('f', [1.5, 2.6, 9.5]) \n",
        "print(float_array2)\n",
        "print('typecode is ', float_array2.typecode)\n",
        "\n",
        "unicode_array3 = array.array('u', ['a', 'b', 'c'])\n",
        "print(unicode_array3)\n",
        "print('typecode is', unicode_array3.typecode)"
      ],
      "metadata": {
        "colab": {
          "base_uri": "https://localhost:8080/"
        },
        "id": "APDroy2PuHHH",
        "outputId": "70750747-de2a-4e4c-e6a6-5e677efbec29"
      },
      "execution_count": null,
      "outputs": [
        {
          "output_type": "stream",
          "name": "stdout",
          "text": [
            "array('i', [1, 2, 3])\n",
            "typecode is  i\n",
            "array('f', [1.5, 2.5999999046325684, 9.5])\n",
            "typecode is  f\n",
            "array('u', 'abc')\n",
            "typecode is u\n"
          ]
        }
      ]
    },
    {
      "cell_type": "code",
      "source": [
        "# print the length of an array\n",
        "my_array = array.array('i', [1, 2, 3, 4, 5, 6, 7, 8, 9])\n",
        "print('the length is ',len(my_array))"
      ],
      "metadata": {
        "colab": {
          "base_uri": "https://localhost:8080/"
        },
        "id": "4XOuD8t2whJu",
        "outputId": "31dbd481-5444-49ef-a4f9-1c75c8a35593"
      },
      "execution_count": null,
      "outputs": [
        {
          "output_type": "stream",
          "name": "stdout",
          "text": [
            "the length is  9\n"
          ]
        }
      ]
    },
    {
      "cell_type": "code",
      "source": [
        "# printing array's value\n",
        "new_array = array.array('i', [10, 20, 70, 90])\n",
        "print(new_array[0])\n",
        "print(new_array[1])\n",
        "print(new_array[2])\n",
        "print(new_array[3])\n",
        "\n",
        "for i in range(len(new_array)):\n",
        "  print(new_array[i], end=\" \")"
      ],
      "metadata": {
        "colab": {
          "base_uri": "https://localhost:8080/"
        },
        "id": "5RS0vb8Dw1JE",
        "outputId": "1787bb9d-b03e-4a5a-a586-59b44d5e1604"
      },
      "execution_count": null,
      "outputs": [
        {
          "output_type": "stream",
          "name": "stdout",
          "text": [
            "10\n",
            "20\n",
            "70\n",
            "90\n",
            "10 20 70 90 "
          ]
        }
      ]
    },
    {
      "cell_type": "code",
      "source": [
        "# create an array\n",
        "my_list = list(range(50))\n",
        "my_array = array.array('i', my_list)\n",
        "print(my_array)\n",
        "\n",
        "for i in my_array:\n",
        "  print(my_array[i])"
      ],
      "metadata": {
        "colab": {
          "base_uri": "https://localhost:8080/"
        },
        "id": "AF6OgeuOy8Hm",
        "outputId": "ea517e66-54d6-4edf-b618-76c147ce0391"
      },
      "execution_count": null,
      "outputs": [
        {
          "output_type": "stream",
          "name": "stdout",
          "text": [
            "array('i', [0, 1, 2, 3, 4, 5, 6, 7, 8, 9, 10, 11, 12, 13, 14, 15, 16, 17, 18, 19, 20, 21, 22, 23, 24, 25, 26, 27, 28, 29, 30, 31, 32, 33, 34, 35, 36, 37, 38, 39, 40, 41, 42, 43, 44, 45, 46, 47, 48, 49])\n",
            "0\n",
            "1\n",
            "2\n",
            "3\n",
            "4\n",
            "5\n",
            "6\n",
            "7\n",
            "8\n",
            "9\n",
            "10\n",
            "11\n",
            "12\n",
            "13\n",
            "14\n",
            "15\n",
            "16\n",
            "17\n",
            "18\n",
            "19\n",
            "20\n",
            "21\n",
            "22\n",
            "23\n",
            "24\n",
            "25\n",
            "26\n",
            "27\n",
            "28\n",
            "29\n",
            "30\n",
            "31\n",
            "32\n",
            "33\n",
            "34\n",
            "35\n",
            "36\n",
            "37\n",
            "38\n",
            "39\n",
            "40\n",
            "41\n",
            "42\n",
            "43\n",
            "44\n",
            "45\n",
            "46\n",
            "47\n",
            "48\n",
            "49\n"
          ]
        }
      ]
    },
    {
      "cell_type": "code",
      "source": [
        "# print element as index position\n",
        "yy_array = list(range(10))\n",
        "nn_array = array.array('f', yy_array)\n",
        "print(nn_array)\n",
        "print(nn_array[4])"
      ],
      "metadata": {
        "colab": {
          "base_uri": "https://localhost:8080/"
        },
        "id": "bO8V09no0SMW",
        "outputId": "444d7422-1543-4c70-ab11-5eba8a1b1ad4"
      },
      "execution_count": null,
      "outputs": [
        {
          "output_type": "stream",
          "name": "stdout",
          "text": [
            "array('f', [0.0, 1.0, 2.0, 3.0, 4.0, 5.0, 6.0, 7.0, 8.0, 9.0])\n",
            "4.0\n"
          ]
        }
      ]
    },
    {
      "cell_type": "markdown",
      "source": [
        "# Add element in the array\n",
        "* insert\n",
        "* append"
      ],
      "metadata": {
        "id": "iWFAKU6j0_qK"
      }
    },
    {
      "cell_type": "code",
      "source": [
        "# insert\n",
        "gg_array = array.array('i', [10, 20, 30])\n",
        "gg_array.insert(1, 1000) # here 1 is index position & 1000 is value\n",
        "print(gg_array)"
      ],
      "metadata": {
        "colab": {
          "base_uri": "https://localhost:8080/"
        },
        "id": "H1EuJq_t1Ln8",
        "outputId": "73a203d7-722f-4736-9ce3-156fc8a466a0"
      },
      "execution_count": null,
      "outputs": [
        {
          "output_type": "stream",
          "name": "stdout",
          "text": [
            "array('i', [10, 1000, 20, 30])\n"
          ]
        }
      ]
    },
    {
      "cell_type": "code",
      "source": [
        "# append\n",
        "gg_array.append(300)\n",
        "print(gg_array)"
      ],
      "metadata": {
        "colab": {
          "base_uri": "https://localhost:8080/"
        },
        "id": "cYRZwABB1paV",
        "outputId": "c7722dae-956d-4218-c22c-ae394f988da0"
      },
      "execution_count": null,
      "outputs": [
        {
          "output_type": "stream",
          "name": "stdout",
          "text": [
            "array('i', [10, 1000, 20, 30, 300])\n"
          ]
        }
      ]
    },
    {
      "cell_type": "code",
      "source": [
        "# update the element\n",
        "rayhan_array = array.array('i', [50, 60, 70])\n",
        "rayhan_array[1] = 5000\n",
        "print(rayhan_array)"
      ],
      "metadata": {
        "colab": {
          "base_uri": "https://localhost:8080/"
        },
        "id": "qDGssoO410Kd",
        "outputId": "c9e7da85-e27a-4f57-a7c1-4aa20b650052"
      },
      "execution_count": null,
      "outputs": [
        {
          "output_type": "stream",
          "name": "stdout",
          "text": [
            "array('i', [50, 5000, 70])\n"
          ]
        }
      ]
    },
    {
      "cell_type": "code",
      "source": [
        "# remove element from the array\n",
        "sizan_array = array.array('i', [10, 20, 30, 40, 50, 60, 70, 80, 90])\n",
        "\n",
        "sizan_array.pop()\n",
        "print(sizan_array)\n",
        "\n",
        "sizan_array.pop(4)\n",
        "print(sizan_array)\n",
        "\n",
        "sizan_array.remove(30)\n",
        "print(sizan_array)"
      ],
      "metadata": {
        "colab": {
          "base_uri": "https://localhost:8080/"
        },
        "id": "ymXmv9tf2ErV",
        "outputId": "2ab7be19-6723-4c02-c4ef-bae26f2cb597"
      },
      "execution_count": null,
      "outputs": [
        {
          "output_type": "stream",
          "name": "stdout",
          "text": [
            "array('i', [10, 20, 30, 40, 50, 60, 70, 80])\n",
            "array('i', [10, 20, 30, 40, 60, 70, 80])\n",
            "array('i', [10, 20, 40, 60, 70, 80])\n"
          ]
        }
      ]
    },
    {
      "cell_type": "code",
      "source": [
        "# slicing\n",
        "xy = list(range(0, 100, 3)) # 3 is step size\n",
        "arr1 = array.array('i', xy)\n",
        "print(arr1[10:20])\n",
        "print(arr1[10:-20])\n",
        "print(arr1[::-1]) # reverse array"
      ],
      "metadata": {
        "colab": {
          "base_uri": "https://localhost:8080/"
        },
        "id": "GyUFuarK2XyN",
        "outputId": "fa9cfd70-3245-4628-fb8e-70b457fe9ce9"
      },
      "execution_count": null,
      "outputs": [
        {
          "output_type": "stream",
          "name": "stdout",
          "text": [
            "array('i', [30, 33, 36, 39, 42, 45, 48, 51, 54, 57])\n",
            "array('i', [30, 33, 36, 39])\n",
            "array('i', [99, 96, 93, 90, 87, 84, 81, 78, 75, 72, 69, 66, 63, 60, 57, 54, 51, 48, 45, 42, 39, 36, 33, 30, 27, 24, 21, 18, 15, 12, 9, 6, 3, 0])\n"
          ]
        }
      ]
    }
  ]
}